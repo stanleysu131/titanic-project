{
 "cells": [
  {
   "cell_type": "markdown",
   "metadata": {},
   "source": [
    "## Preliminary Analysis\n",
    "\n",
    "We will start with some preliminary analysis on our data set."
   ]
  },
  {
   "cell_type": "markdown",
   "metadata": {
    "deletable": false,
    "editable": false,
    "nbgrader": {
     "checksum": "2f5a4a79bf9f490a05127cf0edef6abd",
     "grade": false,
     "grade_id": "cell-80db4163416f23ac",
     "locked": true,
     "schema_version": 1,
     "solution": false
    }
   },
   "source": [
    "### Load the dataset using R\n",
    "\n",
    "First, we love the data set using the R function `read.csv` and assign it to the variable `titanic`. Note that the `read.table` and `read.csv` in R are equivalent accept for the default args. `read.table` defaults to separating on white space. `read.csv` defaults to separating on commas. `read.csv` also defaults to the argument `header=T`."
   ]
  },
  {
   "cell_type": "markdown",
   "metadata": {},
   "source": [
    "#### load the dataset using `read.csv()`\n",
    "\n",
    "Load the csv file `titanic.csv` into a dataframe called `titanic`."
   ]
  },
  {
   "cell_type": "code",
   "execution_count": 3,
   "metadata": {
    "deletable": false,
    "nbgrader": {
     "checksum": "248e07cfa6dc051e3bd185b9e28fcc08",
     "grade": false,
     "grade_id": "cell-495f46184901039d",
     "locked": false,
     "schema_version": 1,
     "solution": true
    }
   },
   "outputs": [],
   "source": [
    "titanic = read.csv('titanic.csv', header=T)"
   ]
  },
  {
   "cell_type": "code",
   "execution_count": 5,
   "metadata": {
    "deletable": false,
    "editable": false,
    "nbgrader": {
     "checksum": "b15302a55d9200c6eba97548a4833979",
     "grade": true,
     "grade_id": "cell-9f2bce6a29c5d0cb",
     "locked": true,
     "points": 2,
     "schema_version": 1,
     "solution": false
    }
   },
   "outputs": [],
   "source": [
    "stopifnot(dim(titanic) == c(891,12))"
   ]
  },
  {
   "cell_type": "markdown",
   "metadata": {},
   "source": [
    "We displayed the dimension `dim()` and the structure `str()` of our datafrane. This is mostly done as a sanity check. We should have some idea of what the dimension and structure of our data is. By displaying these results immediately after loading the data, we can verify that the data has been loaded as we expect."
   ]
  },
  {
   "cell_type": "markdown",
   "metadata": {},
   "source": [
    "#### display the dimension of the data set"
   ]
  },
  {
   "cell_type": "code",
   "execution_count": 6,
   "metadata": {},
   "outputs": [
    {
     "data": {
      "text/html": [
       "<ol class=list-inline>\n",
       "\t<li>891</li>\n",
       "\t<li>12</li>\n",
       "</ol>\n"
      ],
      "text/latex": [
       "\\begin{enumerate*}\n",
       "\\item 891\n",
       "\\item 12\n",
       "\\end{enumerate*}\n"
      ],
      "text/markdown": [
       "1. 891\n",
       "2. 12\n",
       "\n",
       "\n"
      ],
      "text/plain": [
       "[1] 891  12"
      ]
     },
     "metadata": {},
     "output_type": "display_data"
    }
   ],
   "source": [
    "dim(titanic)"
   ]
  },
  {
   "cell_type": "markdown",
   "metadata": {},
   "source": [
    "#### display the structure of the dataframe"
   ]
  },
  {
   "cell_type": "code",
   "execution_count": 7,
   "metadata": {},
   "outputs": [
    {
     "name": "stdout",
     "output_type": "stream",
     "text": [
      "'data.frame':\t891 obs. of  12 variables:\n",
      " $ PassengerId: int  1 2 3 4 5 6 7 8 9 10 ...\n",
      " $ Survived   : int  0 1 1 1 0 0 0 0 1 1 ...\n",
      " $ Pclass     : int  3 1 3 1 3 3 1 3 3 2 ...\n",
      " $ Name       : Factor w/ 891 levels \"Abbing, Mr. Anthony\",..: 109 191 358 277 16 559 520 629 417 581 ...\n",
      " $ Sex        : Factor w/ 2 levels \"female\",\"male\": 2 1 1 1 2 2 2 2 1 1 ...\n",
      " $ Age        : num  22 38 26 35 35 NA 54 2 27 14 ...\n",
      " $ SibSp      : int  1 1 0 1 0 0 0 3 0 1 ...\n",
      " $ Parch      : int  0 0 0 0 0 0 0 1 2 0 ...\n",
      " $ Ticket     : Factor w/ 681 levels \"110152\",\"110413\",..: 524 597 670 50 473 276 86 396 345 133 ...\n",
      " $ Fare       : num  7.25 71.28 7.92 53.1 8.05 ...\n",
      " $ Cabin      : Factor w/ 148 levels \"\",\"A10\",\"A14\",..: 1 83 1 57 1 1 131 1 1 1 ...\n",
      " $ Embarked   : Factor w/ 4 levels \"\",\"C\",\"Q\",\"S\": 4 2 4 4 4 3 4 4 4 2 ...\n"
     ]
    }
   ],
   "source": [
    "str(titanic)"
   ]
  },
  {
   "cell_type": "markdown",
   "metadata": {},
   "source": [
    "### The `R` Structure Object"
   ]
  },
  {
   "cell_type": "markdown",
   "metadata": {},
   "source": [
    "I interpret the structure of our data frame in the following way. Each row in the structure object, `str(titanic)` represents a column in the data frame `titanic`. The value immediately following the `$` is the name of that column. The value immediately following the `:` is the data type of that column. The values following the datatype are the first few values of the data in the column itself. "
   ]
  },
  {
   "cell_type": "markdown",
   "metadata": {},
   "source": [
    "Note that R has made some default decisions about the structure of our data. It has designated five columns as integer columns, five columns as factor columns, and two columns as numerical problems. These may or may not be accurate according to our own understanding of the data. This was done by R, doing its best to intuit the structure of the data during the read of the CSV file. For example, a reasonable case could be made that the the `Survived` column should not be an integer, nor should the `Pclass`."
   ]
  },
  {
   "cell_type": "markdown",
   "metadata": {},
   "source": [
    "### Categorical Features In R \n",
    "\n",
    "R stores categorical features using a special type of vector called a **factor**. The data is stored as a vector of integers. The factor has an additional attribute, however. It also has a vector of levels. The integer stored as data are actually references to the vector of names. We can think of the data stored in the Factor as a mapping to the vector of levels."
   ]
  },
  {
   "cell_type": "markdown",
   "metadata": {},
   "source": [
    "#### display the class of the `titanic$embarked` column"
   ]
  },
  {
   "cell_type": "code",
   "execution_count": 8,
   "metadata": {},
   "outputs": [
    {
     "data": {
      "text/html": [
       "'factor'"
      ],
      "text/latex": [
       "'factor'"
      ],
      "text/markdown": [
       "'factor'"
      ],
      "text/plain": [
       "[1] \"factor\""
      ]
     },
     "metadata": {},
     "output_type": "display_data"
    }
   ],
   "source": [
    "class(titanic$Embarked)"
   ]
  },
  {
   "cell_type": "markdown",
   "metadata": {},
   "source": [
    "#### display the levels of the `titanic$embarked` column"
   ]
  },
  {
   "cell_type": "code",
   "execution_count": 9,
   "metadata": {},
   "outputs": [
    {
     "data": {
      "text/html": [
       "<ol class=list-inline>\n",
       "\t<li>''</li>\n",
       "\t<li>'C'</li>\n",
       "\t<li>'Q'</li>\n",
       "\t<li>'S'</li>\n",
       "</ol>\n"
      ],
      "text/latex": [
       "\\begin{enumerate*}\n",
       "\\item ''\n",
       "\\item 'C'\n",
       "\\item 'Q'\n",
       "\\item 'S'\n",
       "\\end{enumerate*}\n"
      ],
      "text/markdown": [
       "1. ''\n",
       "2. 'C'\n",
       "3. 'Q'\n",
       "4. 'S'\n",
       "\n",
       "\n"
      ],
      "text/plain": [
       "[1] \"\"  \"C\" \"Q\" \"S\""
      ]
     },
     "metadata": {},
     "output_type": "display_data"
    }
   ],
   "source": [
    "levels(titanic$Embarked)"
   ]
  },
  {
   "cell_type": "markdown",
   "metadata": {},
   "source": [
    "#### display that first few values of the `titanic$embarked` column"
   ]
  },
  {
   "cell_type": "code",
   "execution_count": 10,
   "metadata": {},
   "outputs": [
    {
     "data": {
      "text/html": [
       "<ol class=list-inline>\n",
       "\t<li>S</li>\n",
       "\t<li>C</li>\n",
       "\t<li>S</li>\n",
       "\t<li>S</li>\n",
       "\t<li>S</li>\n",
       "</ol>\n"
      ],
      "text/latex": [
       "\\begin{enumerate*}\n",
       "\\item S\n",
       "\\item C\n",
       "\\item S\n",
       "\\item S\n",
       "\\item S\n",
       "\\end{enumerate*}\n"
      ],
      "text/markdown": [
       "1. S\n",
       "2. C\n",
       "3. S\n",
       "4. S\n",
       "5. S\n",
       "\n",
       "\n"
      ],
      "text/plain": [
       "[1] S C S S S\n",
       "Levels:  C Q S"
      ]
     },
     "metadata": {},
     "output_type": "display_data"
    }
   ],
   "source": [
    "titanic$Embarked[1:5]"
   ]
  },
  {
   "cell_type": "markdown",
   "metadata": {},
   "source": [
    "### Completely Unique Columns\n",
    "\n",
    "We can see from the structure of our data frame that it contains two columns that are completely unique. We are attempting to use the patterns in our data to make predictions about the survival of passengers during the Titanic disaster. This is done by identifying patterns in the data. If they column is completely unique there is no pattern to be identified there. Each passenger has its own unique value and there is really no immediate way to associate these unique values with each other. For this reason we will simply remove the completely unique columns. Prior to doing this, however, we should verify that they are in fact completely."
   ]
  },
  {
   "cell_type": "markdown",
   "metadata": {},
   "source": [
    "The two columns in question are `PassengerId` and `Name`. We will use the following method to establish that they are both completely unique:\n",
    "\n",
    "1. We will take a measure of the number of passengers in the data set\n",
    "2. We will take a measure of the number of unique values in each of the columns in question\n",
    "3. If the values match we will consider the column safe for removal"
   ]
  },
  {
   "cell_type": "markdown",
   "metadata": {},
   "source": [
    "#### store the number of passengers\n",
    "\n",
    "Store the number of passengers as the variable `number_of_passengers`."
   ]
  },
  {
   "cell_type": "code",
   "execution_count": 11,
   "metadata": {
    "deletable": false,
    "nbgrader": {
     "checksum": "dce42529e2802d32117510a0ae5376cf",
     "grade": false,
     "grade_id": "cell-8d93a31548b33a54",
     "locked": false,
     "schema_version": 1,
     "solution": true
    }
   },
   "outputs": [],
   "source": [
    "number_of_passengers = titanic$PassengerId"
   ]
  },
  {
   "cell_type": "code",
   "execution_count": 12,
   "metadata": {
    "deletable": false,
    "editable": false,
    "nbgrader": {
     "checksum": "4a5e0850488b3374c95f94edbb6fd137",
     "grade": true,
     "grade_id": "cell-745f7c59e2b5da51",
     "locked": true,
     "points": 0,
     "schema_version": 1,
     "solution": false
    }
   },
   "outputs": [],
   "source": [
    "### HIDDEN TEST"
   ]
  },
  {
   "cell_type": "markdown",
   "metadata": {},
   "source": [
    "#### display the length of the unique values in `titanic$passengerid` and `titanic$name` "
   ]
  },
  {
   "cell_type": "code",
   "execution_count": 13,
   "metadata": {},
   "outputs": [
    {
     "name": "stdout",
     "output_type": "stream",
     "text": [
      "[1] \"PassengerId 891\"\n",
      "[1] \"Survived 2\"\n",
      "[1] \"Pclass 3\"\n",
      "[1] \"Name 891\"\n",
      "[1] \"Sex 2\"\n",
      "[1] \"Age 89\"\n",
      "[1] \"SibSp 7\"\n",
      "[1] \"Parch 7\"\n",
      "[1] \"Ticket 681\"\n",
      "[1] \"Fare 248\"\n",
      "[1] \"Cabin 148\"\n",
      "[1] \"Embarked 4\"\n"
     ]
    }
   ],
   "source": [
    "for (column in colnames(titanic)) {\n",
    "    print(paste(column, length(unique(titanic[,column]))))\n",
    "}"
   ]
  },
  {
   "cell_type": "markdown",
   "metadata": {},
   "source": [
    "Any column where every value is unique can be safely dropped. This can be done by assigning the `NULL` value to the named column. For example, we might do the following on a generic data frame and column\n",
    "\n",
    "    dataframe$mycolumn = NULL"
   ]
  },
  {
   "cell_type": "markdown",
   "metadata": {},
   "source": [
    "#### drop the columns with completely unique values\n",
    "\n",
    "Drop the columns from `titanic` that have completely unique values."
   ]
  },
  {
   "cell_type": "code",
   "execution_count": 14,
   "metadata": {
    "deletable": false,
    "nbgrader": {
     "checksum": "b7c7eb197903d09b99712a7faf164903",
     "grade": false,
     "grade_id": "cell-bb61693a23269ef8",
     "locked": false,
     "schema_version": 1,
     "solution": true
    }
   },
   "outputs": [],
   "source": [
    "titanic$PassengerId = NULL\n",
    "titanic$Name = NULL"
   ]
  },
  {
   "cell_type": "code",
   "execution_count": 15,
   "metadata": {
    "deletable": false,
    "editable": false,
    "nbgrader": {
     "checksum": "0ca0cac5965593f883e85f27ab737e6e",
     "grade": true,
     "grade_id": "cell-78356c026299c0bd",
     "locked": true,
     "points": 4,
     "schema_version": 1,
     "solution": false
    }
   },
   "outputs": [],
   "source": [
    "### HIDDEN TESTS"
   ]
  },
  {
   "cell_type": "markdown",
   "metadata": {},
   "source": [
    "### Write the Updated `DataFrame` to a new csv"
   ]
  },
  {
   "cell_type": "code",
   "execution_count": 16,
   "metadata": {},
   "outputs": [],
   "source": [
    "write.csv(titanic, 'titanic-updated.csv')"
   ]
  },
  {
   "cell_type": "markdown",
   "metadata": {},
   "source": [
    "### Summarize The Data\n",
    "\n",
    "Finally, having dropped the features deemed not immediately useful, we display the summary statistics of the dataframe using the `summary()` function. This function shows the quartile values of the data as well as mean and median for numerical features and the counts to the best of its ability for the factors."
   ]
  },
  {
   "cell_type": "code",
   "execution_count": 17,
   "metadata": {},
   "outputs": [
    {
     "data": {
      "text/plain": [
       "    Survived          Pclass          Sex           Age            SibSp      \n",
       " Min.   :0.0000   Min.   :1.000   female:314   Min.   : 0.42   Min.   :0.000  \n",
       " 1st Qu.:0.0000   1st Qu.:2.000   male  :577   1st Qu.:20.12   1st Qu.:0.000  \n",
       " Median :0.0000   Median :3.000                Median :28.00   Median :0.000  \n",
       " Mean   :0.3838   Mean   :2.309                Mean   :29.70   Mean   :0.523  \n",
       " 3rd Qu.:1.0000   3rd Qu.:3.000                3rd Qu.:38.00   3rd Qu.:1.000  \n",
       " Max.   :1.0000   Max.   :3.000                Max.   :80.00   Max.   :8.000  \n",
       "                                               NA's   :177                    \n",
       "     Parch             Ticket         Fare                Cabin     Embarked\n",
       " Min.   :0.0000   1601    :  7   Min.   :  0.00              :687    :  2   \n",
       " 1st Qu.:0.0000   347082  :  7   1st Qu.:  7.91   B96 B98    :  4   C:168   \n",
       " Median :0.0000   CA. 2343:  7   Median : 14.45   C23 C25 C27:  4   Q: 77   \n",
       " Mean   :0.3816   3101295 :  6   Mean   : 32.20   G6         :  4   S:644   \n",
       " 3rd Qu.:0.0000   347088  :  6   3rd Qu.: 31.00   C22 C26    :  3           \n",
       " Max.   :6.0000   CA 2144 :  6   Max.   :512.33   D          :  3           \n",
       "                  (Other) :852                    (Other)    :186           "
      ]
     },
     "metadata": {},
     "output_type": "display_data"
    }
   ],
   "source": [
    "summary(titanic)"
   ]
  },
  {
   "cell_type": "code",
   "execution_count": 18,
   "metadata": {},
   "outputs": [
    {
     "data": {
      "text/html": [
       "<table>\n",
       "<thead><tr><th scope=col>Survived</th><th scope=col>Pclass</th><th scope=col>Sex</th><th scope=col>Age</th><th scope=col>SibSp</th><th scope=col>Parch</th><th scope=col>Ticket</th><th scope=col>Fare</th><th scope=col>Cabin</th><th scope=col>Embarked</th></tr></thead>\n",
       "<tbody>\n",
       "\t<tr><td>0               </td><td>3               </td><td>male            </td><td>22              </td><td>1               </td><td>0               </td><td>A/5 21171       </td><td>  7.2500        </td><td>                </td><td>S               </td></tr>\n",
       "\t<tr><td>1               </td><td>1               </td><td>female          </td><td>38              </td><td>1               </td><td>0               </td><td>PC 17599        </td><td> 71.2833        </td><td>C85             </td><td>C               </td></tr>\n",
       "\t<tr><td>1               </td><td>3               </td><td>female          </td><td>26              </td><td>0               </td><td>0               </td><td>STON/O2. 3101282</td><td>  7.9250        </td><td>                </td><td>S               </td></tr>\n",
       "\t<tr><td>1               </td><td>1               </td><td>female          </td><td>35              </td><td>1               </td><td>0               </td><td>113803          </td><td> 53.1000        </td><td>C123            </td><td>S               </td></tr>\n",
       "\t<tr><td>0               </td><td>3               </td><td>male            </td><td>35              </td><td>0               </td><td>0               </td><td>373450          </td><td>  8.0500        </td><td>                </td><td>S               </td></tr>\n",
       "\t<tr><td>0               </td><td>3               </td><td>male            </td><td>NA              </td><td>0               </td><td>0               </td><td>330877          </td><td>  8.4583        </td><td>                </td><td>Q               </td></tr>\n",
       "\t<tr><td>0               </td><td>1               </td><td>male            </td><td>54              </td><td>0               </td><td>0               </td><td>17463           </td><td> 51.8625        </td><td>E46             </td><td>S               </td></tr>\n",
       "\t<tr><td>0               </td><td>3               </td><td>male            </td><td> 2              </td><td>3               </td><td>1               </td><td>349909          </td><td> 21.0750        </td><td>                </td><td>S               </td></tr>\n",
       "\t<tr><td>1               </td><td>3               </td><td>female          </td><td>27              </td><td>0               </td><td>2               </td><td>347742          </td><td> 11.1333        </td><td>                </td><td>S               </td></tr>\n",
       "\t<tr><td>1               </td><td>2               </td><td>female          </td><td>14              </td><td>1               </td><td>0               </td><td>237736          </td><td> 30.0708        </td><td>                </td><td>C               </td></tr>\n",
       "\t<tr><td>1               </td><td>3               </td><td>female          </td><td> 4              </td><td>1               </td><td>1               </td><td>PP 9549         </td><td> 16.7000        </td><td>G6              </td><td>S               </td></tr>\n",
       "\t<tr><td>1               </td><td>1               </td><td>female          </td><td>58              </td><td>0               </td><td>0               </td><td>113783          </td><td> 26.5500        </td><td>C103            </td><td>S               </td></tr>\n",
       "\t<tr><td>0               </td><td>3               </td><td>male            </td><td>20              </td><td>0               </td><td>0               </td><td>A/5. 2151       </td><td>  8.0500        </td><td>                </td><td>S               </td></tr>\n",
       "\t<tr><td>0               </td><td>3               </td><td>male            </td><td>39              </td><td>1               </td><td>5               </td><td>347082          </td><td> 31.2750        </td><td>                </td><td>S               </td></tr>\n",
       "\t<tr><td>0               </td><td>3               </td><td>female          </td><td>14              </td><td>0               </td><td>0               </td><td>350406          </td><td>  7.8542        </td><td>                </td><td>S               </td></tr>\n",
       "\t<tr><td>1               </td><td>2               </td><td>female          </td><td>55              </td><td>0               </td><td>0               </td><td>248706          </td><td> 16.0000        </td><td>                </td><td>S               </td></tr>\n",
       "\t<tr><td>0               </td><td>3               </td><td>male            </td><td> 2              </td><td>4               </td><td>1               </td><td>382652          </td><td> 29.1250        </td><td>                </td><td>Q               </td></tr>\n",
       "\t<tr><td>1               </td><td>2               </td><td>male            </td><td>NA              </td><td>0               </td><td>0               </td><td>244373          </td><td> 13.0000        </td><td>                </td><td>S               </td></tr>\n",
       "\t<tr><td>0               </td><td>3               </td><td>female          </td><td>31              </td><td>1               </td><td>0               </td><td>345763          </td><td> 18.0000        </td><td>                </td><td>S               </td></tr>\n",
       "\t<tr><td>1               </td><td>3               </td><td>female          </td><td>NA              </td><td>0               </td><td>0               </td><td>2649            </td><td>  7.2250        </td><td>                </td><td>C               </td></tr>\n",
       "\t<tr><td>0               </td><td>2               </td><td>male            </td><td>35              </td><td>0               </td><td>0               </td><td>239865          </td><td> 26.0000        </td><td>                </td><td>S               </td></tr>\n",
       "\t<tr><td>1               </td><td>2               </td><td>male            </td><td>34              </td><td>0               </td><td>0               </td><td>248698          </td><td> 13.0000        </td><td>D56             </td><td>S               </td></tr>\n",
       "\t<tr><td>1               </td><td>3               </td><td>female          </td><td>15              </td><td>0               </td><td>0               </td><td>330923          </td><td>  8.0292        </td><td>                </td><td>Q               </td></tr>\n",
       "\t<tr><td>1               </td><td>1               </td><td>male            </td><td>28              </td><td>0               </td><td>0               </td><td>113788          </td><td> 35.5000        </td><td>A6              </td><td>S               </td></tr>\n",
       "\t<tr><td>0               </td><td>3               </td><td>female          </td><td> 8              </td><td>3               </td><td>1               </td><td>349909          </td><td> 21.0750        </td><td>                </td><td>S               </td></tr>\n",
       "\t<tr><td>1               </td><td>3               </td><td>female          </td><td>38              </td><td>1               </td><td>5               </td><td>347077          </td><td> 31.3875        </td><td>                </td><td>S               </td></tr>\n",
       "\t<tr><td>0               </td><td>3               </td><td>male            </td><td>NA              </td><td>0               </td><td>0               </td><td>2631            </td><td>  7.2250        </td><td>                </td><td>C               </td></tr>\n",
       "\t<tr><td>0               </td><td>1               </td><td>male            </td><td>19              </td><td>3               </td><td>2               </td><td>19950           </td><td>263.0000        </td><td>C23 C25 C27     </td><td>S               </td></tr>\n",
       "\t<tr><td>1               </td><td>3               </td><td>female          </td><td>NA              </td><td>0               </td><td>0               </td><td>330959          </td><td>  7.8792        </td><td>                </td><td>Q               </td></tr>\n",
       "\t<tr><td>0               </td><td>3               </td><td>male            </td><td>NA              </td><td>0               </td><td>0               </td><td>349216          </td><td>  7.8958        </td><td>                </td><td>S               </td></tr>\n",
       "\t<tr><td>⋮</td><td>⋮</td><td>⋮</td><td>⋮</td><td>⋮</td><td>⋮</td><td>⋮</td><td>⋮</td><td>⋮</td><td>⋮</td></tr>\n",
       "\t<tr><td>0               </td><td>2               </td><td>male            </td><td>21              </td><td>1               </td><td>0               </td><td>28134           </td><td>11.5000         </td><td>                </td><td>S               </td></tr>\n",
       "\t<tr><td>1               </td><td>1               </td><td>female          </td><td>48              </td><td>0               </td><td>0               </td><td>17466           </td><td>25.9292         </td><td>D17             </td><td>S               </td></tr>\n",
       "\t<tr><td>0               </td><td>3               </td><td>female          </td><td>NA              </td><td>8               </td><td>2               </td><td>CA. 2343        </td><td>69.5500         </td><td>                </td><td>S               </td></tr>\n",
       "\t<tr><td>0               </td><td>2               </td><td>male            </td><td>24              </td><td>0               </td><td>0               </td><td>233866          </td><td>13.0000         </td><td>                </td><td>S               </td></tr>\n",
       "\t<tr><td>1               </td><td>2               </td><td>female          </td><td>42              </td><td>0               </td><td>0               </td><td>236852          </td><td>13.0000         </td><td>                </td><td>S               </td></tr>\n",
       "\t<tr><td>1               </td><td>2               </td><td>female          </td><td>27              </td><td>1               </td><td>0               </td><td>SC/PARIS 2149   </td><td>13.8583         </td><td>                </td><td>C               </td></tr>\n",
       "\t<tr><td>0               </td><td>1               </td><td>male            </td><td>31              </td><td>0               </td><td>0               </td><td>PC 17590        </td><td>50.4958         </td><td>A24             </td><td>S               </td></tr>\n",
       "\t<tr><td>0               </td><td>3               </td><td>male            </td><td>NA              </td><td>0               </td><td>0               </td><td>345777          </td><td> 9.5000         </td><td>                </td><td>S               </td></tr>\n",
       "\t<tr><td>1               </td><td>3               </td><td>male            </td><td> 4              </td><td>1               </td><td>1               </td><td>347742          </td><td>11.1333         </td><td>                </td><td>S               </td></tr>\n",
       "\t<tr><td>0               </td><td>3               </td><td>male            </td><td>26              </td><td>0               </td><td>0               </td><td>349248          </td><td> 7.8958         </td><td>                </td><td>S               </td></tr>\n",
       "\t<tr><td>1               </td><td>1               </td><td>female          </td><td>47              </td><td>1               </td><td>1               </td><td>11751           </td><td>52.5542         </td><td>D35             </td><td>S               </td></tr>\n",
       "\t<tr><td>0               </td><td>1               </td><td>male            </td><td>33              </td><td>0               </td><td>0               </td><td>695             </td><td> 5.0000         </td><td>B51 B53 B55     </td><td>S               </td></tr>\n",
       "\t<tr><td>0               </td><td>3               </td><td>male            </td><td>47              </td><td>0               </td><td>0               </td><td>345765          </td><td> 9.0000         </td><td>                </td><td>S               </td></tr>\n",
       "\t<tr><td>1               </td><td>2               </td><td>female          </td><td>28              </td><td>1               </td><td>0               </td><td>P/PP 3381       </td><td>24.0000         </td><td>                </td><td>C               </td></tr>\n",
       "\t<tr><td>1               </td><td>3               </td><td>female          </td><td>15              </td><td>0               </td><td>0               </td><td>2667            </td><td> 7.2250         </td><td>                </td><td>C               </td></tr>\n",
       "\t<tr><td>0               </td><td>3               </td><td>male            </td><td>20              </td><td>0               </td><td>0               </td><td>7534            </td><td> 9.8458         </td><td>                </td><td>S               </td></tr>\n",
       "\t<tr><td>0               </td><td>3               </td><td>male            </td><td>19              </td><td>0               </td><td>0               </td><td>349212          </td><td> 7.8958         </td><td>                </td><td>S               </td></tr>\n",
       "\t<tr><td>0               </td><td>3               </td><td>male            </td><td>NA              </td><td>0               </td><td>0               </td><td>349217          </td><td> 7.8958         </td><td>                </td><td>S               </td></tr>\n",
       "\t<tr><td>1               </td><td>1               </td><td>female          </td><td>56              </td><td>0               </td><td>1               </td><td>11767           </td><td>83.1583         </td><td>C50             </td><td>C               </td></tr>\n",
       "\t<tr><td>1               </td><td>2               </td><td>female          </td><td>25              </td><td>0               </td><td>1               </td><td>230433          </td><td>26.0000         </td><td>                </td><td>S               </td></tr>\n",
       "\t<tr><td>0               </td><td>3               </td><td>male            </td><td>33              </td><td>0               </td><td>0               </td><td>349257          </td><td> 7.8958         </td><td>                </td><td>S               </td></tr>\n",
       "\t<tr><td>0               </td><td>3               </td><td>female          </td><td>22              </td><td>0               </td><td>0               </td><td>7552            </td><td>10.5167         </td><td>                </td><td>S               </td></tr>\n",
       "\t<tr><td>0               </td><td>2               </td><td>male            </td><td>28              </td><td>0               </td><td>0               </td><td>C.A./SOTON 34068</td><td>10.5000         </td><td>                </td><td>S               </td></tr>\n",
       "\t<tr><td>0               </td><td>3               </td><td>male            </td><td>25              </td><td>0               </td><td>0               </td><td>SOTON/OQ 392076 </td><td> 7.0500         </td><td>                </td><td>S               </td></tr>\n",
       "\t<tr><td>0               </td><td>3               </td><td>female          </td><td>39              </td><td>0               </td><td>5               </td><td>382652          </td><td>29.1250         </td><td>                </td><td>Q               </td></tr>\n",
       "\t<tr><td>0               </td><td>2               </td><td>male            </td><td>27              </td><td>0               </td><td>0               </td><td>211536          </td><td>13.0000         </td><td>                </td><td>S               </td></tr>\n",
       "\t<tr><td>1               </td><td>1               </td><td>female          </td><td>19              </td><td>0               </td><td>0               </td><td>112053          </td><td>30.0000         </td><td>B42             </td><td>S               </td></tr>\n",
       "\t<tr><td>0               </td><td>3               </td><td>female          </td><td>NA              </td><td>1               </td><td>2               </td><td>W./C. 6607      </td><td>23.4500         </td><td>                </td><td>S               </td></tr>\n",
       "\t<tr><td>1               </td><td>1               </td><td>male            </td><td>26              </td><td>0               </td><td>0               </td><td>111369          </td><td>30.0000         </td><td>C148            </td><td>C               </td></tr>\n",
       "\t<tr><td>0               </td><td>3               </td><td>male            </td><td>32              </td><td>0               </td><td>0               </td><td>370376          </td><td> 7.7500         </td><td>                </td><td>Q               </td></tr>\n",
       "</tbody>\n",
       "</table>\n"
      ],
      "text/latex": [
       "\\begin{tabular}{r|llllllllll}\n",
       " Survived & Pclass & Sex & Age & SibSp & Parch & Ticket & Fare & Cabin & Embarked\\\\\n",
       "\\hline\n",
       "\t 0                & 3                & male             & 22               & 1                & 0                & A/5 21171        &   7.2500         &                  & S               \\\\\n",
       "\t 1                & 1                & female           & 38               & 1                & 0                & PC 17599         &  71.2833         & C85              & C               \\\\\n",
       "\t 1                & 3                & female           & 26               & 0                & 0                & STON/O2. 3101282 &   7.9250         &                  & S               \\\\\n",
       "\t 1                & 1                & female           & 35               & 1                & 0                & 113803           &  53.1000         & C123             & S               \\\\\n",
       "\t 0                & 3                & male             & 35               & 0                & 0                & 373450           &   8.0500         &                  & S               \\\\\n",
       "\t 0                & 3                & male             & NA               & 0                & 0                & 330877           &   8.4583         &                  & Q               \\\\\n",
       "\t 0                & 1                & male             & 54               & 0                & 0                & 17463            &  51.8625         & E46              & S               \\\\\n",
       "\t 0                & 3                & male             &  2               & 3                & 1                & 349909           &  21.0750         &                  & S               \\\\\n",
       "\t 1                & 3                & female           & 27               & 0                & 2                & 347742           &  11.1333         &                  & S               \\\\\n",
       "\t 1                & 2                & female           & 14               & 1                & 0                & 237736           &  30.0708         &                  & C               \\\\\n",
       "\t 1                & 3                & female           &  4               & 1                & 1                & PP 9549          &  16.7000         & G6               & S               \\\\\n",
       "\t 1                & 1                & female           & 58               & 0                & 0                & 113783           &  26.5500         & C103             & S               \\\\\n",
       "\t 0                & 3                & male             & 20               & 0                & 0                & A/5. 2151        &   8.0500         &                  & S               \\\\\n",
       "\t 0                & 3                & male             & 39               & 1                & 5                & 347082           &  31.2750         &                  & S               \\\\\n",
       "\t 0                & 3                & female           & 14               & 0                & 0                & 350406           &   7.8542         &                  & S               \\\\\n",
       "\t 1                & 2                & female           & 55               & 0                & 0                & 248706           &  16.0000         &                  & S               \\\\\n",
       "\t 0                & 3                & male             &  2               & 4                & 1                & 382652           &  29.1250         &                  & Q               \\\\\n",
       "\t 1                & 2                & male             & NA               & 0                & 0                & 244373           &  13.0000         &                  & S               \\\\\n",
       "\t 0                & 3                & female           & 31               & 1                & 0                & 345763           &  18.0000         &                  & S               \\\\\n",
       "\t 1                & 3                & female           & NA               & 0                & 0                & 2649             &   7.2250         &                  & C               \\\\\n",
       "\t 0                & 2                & male             & 35               & 0                & 0                & 239865           &  26.0000         &                  & S               \\\\\n",
       "\t 1                & 2                & male             & 34               & 0                & 0                & 248698           &  13.0000         & D56              & S               \\\\\n",
       "\t 1                & 3                & female           & 15               & 0                & 0                & 330923           &   8.0292         &                  & Q               \\\\\n",
       "\t 1                & 1                & male             & 28               & 0                & 0                & 113788           &  35.5000         & A6               & S               \\\\\n",
       "\t 0                & 3                & female           &  8               & 3                & 1                & 349909           &  21.0750         &                  & S               \\\\\n",
       "\t 1                & 3                & female           & 38               & 1                & 5                & 347077           &  31.3875         &                  & S               \\\\\n",
       "\t 0                & 3                & male             & NA               & 0                & 0                & 2631             &   7.2250         &                  & C               \\\\\n",
       "\t 0                & 1                & male             & 19               & 3                & 2                & 19950            & 263.0000         & C23 C25 C27      & S               \\\\\n",
       "\t 1                & 3                & female           & NA               & 0                & 0                & 330959           &   7.8792         &                  & Q               \\\\\n",
       "\t 0                & 3                & male             & NA               & 0                & 0                & 349216           &   7.8958         &                  & S               \\\\\n",
       "\t ⋮ & ⋮ & ⋮ & ⋮ & ⋮ & ⋮ & ⋮ & ⋮ & ⋮ & ⋮\\\\\n",
       "\t 0                & 2                & male             & 21               & 1                & 0                & 28134            & 11.5000          &                  & S               \\\\\n",
       "\t 1                & 1                & female           & 48               & 0                & 0                & 17466            & 25.9292          & D17              & S               \\\\\n",
       "\t 0                & 3                & female           & NA               & 8                & 2                & CA. 2343         & 69.5500          &                  & S               \\\\\n",
       "\t 0                & 2                & male             & 24               & 0                & 0                & 233866           & 13.0000          &                  & S               \\\\\n",
       "\t 1                & 2                & female           & 42               & 0                & 0                & 236852           & 13.0000          &                  & S               \\\\\n",
       "\t 1                & 2                & female           & 27               & 1                & 0                & SC/PARIS 2149    & 13.8583          &                  & C               \\\\\n",
       "\t 0                & 1                & male             & 31               & 0                & 0                & PC 17590         & 50.4958          & A24              & S               \\\\\n",
       "\t 0                & 3                & male             & NA               & 0                & 0                & 345777           &  9.5000          &                  & S               \\\\\n",
       "\t 1                & 3                & male             &  4               & 1                & 1                & 347742           & 11.1333          &                  & S               \\\\\n",
       "\t 0                & 3                & male             & 26               & 0                & 0                & 349248           &  7.8958          &                  & S               \\\\\n",
       "\t 1                & 1                & female           & 47               & 1                & 1                & 11751            & 52.5542          & D35              & S               \\\\\n",
       "\t 0                & 1                & male             & 33               & 0                & 0                & 695              &  5.0000          & B51 B53 B55      & S               \\\\\n",
       "\t 0                & 3                & male             & 47               & 0                & 0                & 345765           &  9.0000          &                  & S               \\\\\n",
       "\t 1                & 2                & female           & 28               & 1                & 0                & P/PP 3381        & 24.0000          &                  & C               \\\\\n",
       "\t 1                & 3                & female           & 15               & 0                & 0                & 2667             &  7.2250          &                  & C               \\\\\n",
       "\t 0                & 3                & male             & 20               & 0                & 0                & 7534             &  9.8458          &                  & S               \\\\\n",
       "\t 0                & 3                & male             & 19               & 0                & 0                & 349212           &  7.8958          &                  & S               \\\\\n",
       "\t 0                & 3                & male             & NA               & 0                & 0                & 349217           &  7.8958          &                  & S               \\\\\n",
       "\t 1                & 1                & female           & 56               & 0                & 1                & 11767            & 83.1583          & C50              & C               \\\\\n",
       "\t 1                & 2                & female           & 25               & 0                & 1                & 230433           & 26.0000          &                  & S               \\\\\n",
       "\t 0                & 3                & male             & 33               & 0                & 0                & 349257           &  7.8958          &                  & S               \\\\\n",
       "\t 0                & 3                & female           & 22               & 0                & 0                & 7552             & 10.5167          &                  & S               \\\\\n",
       "\t 0                & 2                & male             & 28               & 0                & 0                & C.A./SOTON 34068 & 10.5000          &                  & S               \\\\\n",
       "\t 0                & 3                & male             & 25               & 0                & 0                & SOTON/OQ 392076  &  7.0500          &                  & S               \\\\\n",
       "\t 0                & 3                & female           & 39               & 0                & 5                & 382652           & 29.1250          &                  & Q               \\\\\n",
       "\t 0                & 2                & male             & 27               & 0                & 0                & 211536           & 13.0000          &                  & S               \\\\\n",
       "\t 1                & 1                & female           & 19               & 0                & 0                & 112053           & 30.0000          & B42              & S               \\\\\n",
       "\t 0                & 3                & female           & NA               & 1                & 2                & W./C. 6607       & 23.4500          &                  & S               \\\\\n",
       "\t 1                & 1                & male             & 26               & 0                & 0                & 111369           & 30.0000          & C148             & C               \\\\\n",
       "\t 0                & 3                & male             & 32               & 0                & 0                & 370376           &  7.7500          &                  & Q               \\\\\n",
       "\\end{tabular}\n"
      ],
      "text/markdown": [
       "\n",
       "Survived | Pclass | Sex | Age | SibSp | Parch | Ticket | Fare | Cabin | Embarked | \n",
       "|---|---|---|---|---|---|---|---|---|---|---|---|---|---|---|---|---|---|---|---|---|---|---|---|---|---|---|---|---|---|---|---|---|---|---|---|---|---|---|---|---|---|---|---|---|---|---|---|---|---|---|---|---|---|---|---|---|---|---|---|---|\n",
       "| 0                | 3                | male             | 22               | 1                | 0                | A/5 21171        |   7.2500         |                  | S                | \n",
       "| 1                | 1                | female           | 38               | 1                | 0                | PC 17599         |  71.2833         | C85              | C                | \n",
       "| 1                | 3                | female           | 26               | 0                | 0                | STON/O2. 3101282 |   7.9250         |                  | S                | \n",
       "| 1                | 1                | female           | 35               | 1                | 0                | 113803           |  53.1000         | C123             | S                | \n",
       "| 0                | 3                | male             | 35               | 0                | 0                | 373450           |   8.0500         |                  | S                | \n",
       "| 0                | 3                | male             | NA               | 0                | 0                | 330877           |   8.4583         |                  | Q                | \n",
       "| 0                | 1                | male             | 54               | 0                | 0                | 17463            |  51.8625         | E46              | S                | \n",
       "| 0                | 3                | male             |  2               | 3                | 1                | 349909           |  21.0750         |                  | S                | \n",
       "| 1                | 3                | female           | 27               | 0                | 2                | 347742           |  11.1333         |                  | S                | \n",
       "| 1                | 2                | female           | 14               | 1                | 0                | 237736           |  30.0708         |                  | C                | \n",
       "| 1                | 3                | female           |  4               | 1                | 1                | PP 9549          |  16.7000         | G6               | S                | \n",
       "| 1                | 1                | female           | 58               | 0                | 0                | 113783           |  26.5500         | C103             | S                | \n",
       "| 0                | 3                | male             | 20               | 0                | 0                | A/5. 2151        |   8.0500         |                  | S                | \n",
       "| 0                | 3                | male             | 39               | 1                | 5                | 347082           |  31.2750         |                  | S                | \n",
       "| 0                | 3                | female           | 14               | 0                | 0                | 350406           |   7.8542         |                  | S                | \n",
       "| 1                | 2                | female           | 55               | 0                | 0                | 248706           |  16.0000         |                  | S                | \n",
       "| 0                | 3                | male             |  2               | 4                | 1                | 382652           |  29.1250         |                  | Q                | \n",
       "| 1                | 2                | male             | NA               | 0                | 0                | 244373           |  13.0000         |                  | S                | \n",
       "| 0                | 3                | female           | 31               | 1                | 0                | 345763           |  18.0000         |                  | S                | \n",
       "| 1                | 3                | female           | NA               | 0                | 0                | 2649             |   7.2250         |                  | C                | \n",
       "| 0                | 2                | male             | 35               | 0                | 0                | 239865           |  26.0000         |                  | S                | \n",
       "| 1                | 2                | male             | 34               | 0                | 0                | 248698           |  13.0000         | D56              | S                | \n",
       "| 1                | 3                | female           | 15               | 0                | 0                | 330923           |   8.0292         |                  | Q                | \n",
       "| 1                | 1                | male             | 28               | 0                | 0                | 113788           |  35.5000         | A6               | S                | \n",
       "| 0                | 3                | female           |  8               | 3                | 1                | 349909           |  21.0750         |                  | S                | \n",
       "| 1                | 3                | female           | 38               | 1                | 5                | 347077           |  31.3875         |                  | S                | \n",
       "| 0                | 3                | male             | NA               | 0                | 0                | 2631             |   7.2250         |                  | C                | \n",
       "| 0                | 1                | male             | 19               | 3                | 2                | 19950            | 263.0000         | C23 C25 C27      | S                | \n",
       "| 1                | 3                | female           | NA               | 0                | 0                | 330959           |   7.8792         |                  | Q                | \n",
       "| 0                | 3                | male             | NA               | 0                | 0                | 349216           |   7.8958         |                  | S                | \n",
       "| ⋮ | ⋮ | ⋮ | ⋮ | ⋮ | ⋮ | ⋮ | ⋮ | ⋮ | ⋮ | \n",
       "| 0                | 2                | male             | 21               | 1                | 0                | 28134            | 11.5000          |                  | S                | \n",
       "| 1                | 1                | female           | 48               | 0                | 0                | 17466            | 25.9292          | D17              | S                | \n",
       "| 0                | 3                | female           | NA               | 8                | 2                | CA. 2343         | 69.5500          |                  | S                | \n",
       "| 0                | 2                | male             | 24               | 0                | 0                | 233866           | 13.0000          |                  | S                | \n",
       "| 1                | 2                | female           | 42               | 0                | 0                | 236852           | 13.0000          |                  | S                | \n",
       "| 1                | 2                | female           | 27               | 1                | 0                | SC/PARIS 2149    | 13.8583          |                  | C                | \n",
       "| 0                | 1                | male             | 31               | 0                | 0                | PC 17590         | 50.4958          | A24              | S                | \n",
       "| 0                | 3                | male             | NA               | 0                | 0                | 345777           |  9.5000          |                  | S                | \n",
       "| 1                | 3                | male             |  4               | 1                | 1                | 347742           | 11.1333          |                  | S                | \n",
       "| 0                | 3                | male             | 26               | 0                | 0                | 349248           |  7.8958          |                  | S                | \n",
       "| 1                | 1                | female           | 47               | 1                | 1                | 11751            | 52.5542          | D35              | S                | \n",
       "| 0                | 1                | male             | 33               | 0                | 0                | 695              |  5.0000          | B51 B53 B55      | S                | \n",
       "| 0                | 3                | male             | 47               | 0                | 0                | 345765           |  9.0000          |                  | S                | \n",
       "| 1                | 2                | female           | 28               | 1                | 0                | P/PP 3381        | 24.0000          |                  | C                | \n",
       "| 1                | 3                | female           | 15               | 0                | 0                | 2667             |  7.2250          |                  | C                | \n",
       "| 0                | 3                | male             | 20               | 0                | 0                | 7534             |  9.8458          |                  | S                | \n",
       "| 0                | 3                | male             | 19               | 0                | 0                | 349212           |  7.8958          |                  | S                | \n",
       "| 0                | 3                | male             | NA               | 0                | 0                | 349217           |  7.8958          |                  | S                | \n",
       "| 1                | 1                | female           | 56               | 0                | 1                | 11767            | 83.1583          | C50              | C                | \n",
       "| 1                | 2                | female           | 25               | 0                | 1                | 230433           | 26.0000          |                  | S                | \n",
       "| 0                | 3                | male             | 33               | 0                | 0                | 349257           |  7.8958          |                  | S                | \n",
       "| 0                | 3                | female           | 22               | 0                | 0                | 7552             | 10.5167          |                  | S                | \n",
       "| 0                | 2                | male             | 28               | 0                | 0                | C.A./SOTON 34068 | 10.5000          |                  | S                | \n",
       "| 0                | 3                | male             | 25               | 0                | 0                | SOTON/OQ 392076  |  7.0500          |                  | S                | \n",
       "| 0                | 3                | female           | 39               | 0                | 5                | 382652           | 29.1250          |                  | Q                | \n",
       "| 0                | 2                | male             | 27               | 0                | 0                | 211536           | 13.0000          |                  | S                | \n",
       "| 1                | 1                | female           | 19               | 0                | 0                | 112053           | 30.0000          | B42              | S                | \n",
       "| 0                | 3                | female           | NA               | 1                | 2                | W./C. 6607       | 23.4500          |                  | S                | \n",
       "| 1                | 1                | male             | 26               | 0                | 0                | 111369           | 30.0000          | C148             | C                | \n",
       "| 0                | 3                | male             | 32               | 0                | 0                | 370376           |  7.7500          |                  | Q                | \n",
       "\n",
       "\n"
      ],
      "text/plain": [
       "    Survived Pclass Sex    Age SibSp Parch Ticket           Fare    \n",
       "1   0        3      male   22  1     0     A/5 21171          7.2500\n",
       "2   1        1      female 38  1     0     PC 17599          71.2833\n",
       "3   1        3      female 26  0     0     STON/O2. 3101282   7.9250\n",
       "4   1        1      female 35  1     0     113803            53.1000\n",
       "5   0        3      male   35  0     0     373450             8.0500\n",
       "6   0        3      male   NA  0     0     330877             8.4583\n",
       "7   0        1      male   54  0     0     17463             51.8625\n",
       "8   0        3      male    2  3     1     349909            21.0750\n",
       "9   1        3      female 27  0     2     347742            11.1333\n",
       "10  1        2      female 14  1     0     237736            30.0708\n",
       "11  1        3      female  4  1     1     PP 9549           16.7000\n",
       "12  1        1      female 58  0     0     113783            26.5500\n",
       "13  0        3      male   20  0     0     A/5. 2151          8.0500\n",
       "14  0        3      male   39  1     5     347082            31.2750\n",
       "15  0        3      female 14  0     0     350406             7.8542\n",
       "16  1        2      female 55  0     0     248706            16.0000\n",
       "17  0        3      male    2  4     1     382652            29.1250\n",
       "18  1        2      male   NA  0     0     244373            13.0000\n",
       "19  0        3      female 31  1     0     345763            18.0000\n",
       "20  1        3      female NA  0     0     2649               7.2250\n",
       "21  0        2      male   35  0     0     239865            26.0000\n",
       "22  1        2      male   34  0     0     248698            13.0000\n",
       "23  1        3      female 15  0     0     330923             8.0292\n",
       "24  1        1      male   28  0     0     113788            35.5000\n",
       "25  0        3      female  8  3     1     349909            21.0750\n",
       "26  1        3      female 38  1     5     347077            31.3875\n",
       "27  0        3      male   NA  0     0     2631               7.2250\n",
       "28  0        1      male   19  3     2     19950            263.0000\n",
       "29  1        3      female NA  0     0     330959             7.8792\n",
       "30  0        3      male   NA  0     0     349216             7.8958\n",
       "⋮   ⋮        ⋮      ⋮      ⋮   ⋮     ⋮     ⋮                ⋮       \n",
       "862 0        2      male   21  1     0     28134            11.5000 \n",
       "863 1        1      female 48  0     0     17466            25.9292 \n",
       "864 0        3      female NA  8     2     CA. 2343         69.5500 \n",
       "865 0        2      male   24  0     0     233866           13.0000 \n",
       "866 1        2      female 42  0     0     236852           13.0000 \n",
       "867 1        2      female 27  1     0     SC/PARIS 2149    13.8583 \n",
       "868 0        1      male   31  0     0     PC 17590         50.4958 \n",
       "869 0        3      male   NA  0     0     345777            9.5000 \n",
       "870 1        3      male    4  1     1     347742           11.1333 \n",
       "871 0        3      male   26  0     0     349248            7.8958 \n",
       "872 1        1      female 47  1     1     11751            52.5542 \n",
       "873 0        1      male   33  0     0     695               5.0000 \n",
       "874 0        3      male   47  0     0     345765            9.0000 \n",
       "875 1        2      female 28  1     0     P/PP 3381        24.0000 \n",
       "876 1        3      female 15  0     0     2667              7.2250 \n",
       "877 0        3      male   20  0     0     7534              9.8458 \n",
       "878 0        3      male   19  0     0     349212            7.8958 \n",
       "879 0        3      male   NA  0     0     349217            7.8958 \n",
       "880 1        1      female 56  0     1     11767            83.1583 \n",
       "881 1        2      female 25  0     1     230433           26.0000 \n",
       "882 0        3      male   33  0     0     349257            7.8958 \n",
       "883 0        3      female 22  0     0     7552             10.5167 \n",
       "884 0        2      male   28  0     0     C.A./SOTON 34068 10.5000 \n",
       "885 0        3      male   25  0     0     SOTON/OQ 392076   7.0500 \n",
       "886 0        3      female 39  0     5     382652           29.1250 \n",
       "887 0        2      male   27  0     0     211536           13.0000 \n",
       "888 1        1      female 19  0     0     112053           30.0000 \n",
       "889 0        3      female NA  1     2     W./C. 6607       23.4500 \n",
       "890 1        1      male   26  0     0     111369           30.0000 \n",
       "891 0        3      male   32  0     0     370376            7.7500 \n",
       "    Cabin       Embarked\n",
       "1               S       \n",
       "2   C85         C       \n",
       "3               S       \n",
       "4   C123        S       \n",
       "5               S       \n",
       "6               Q       \n",
       "7   E46         S       \n",
       "8               S       \n",
       "9               S       \n",
       "10              C       \n",
       "11  G6          S       \n",
       "12  C103        S       \n",
       "13              S       \n",
       "14              S       \n",
       "15              S       \n",
       "16              S       \n",
       "17              Q       \n",
       "18              S       \n",
       "19              S       \n",
       "20              C       \n",
       "21              S       \n",
       "22  D56         S       \n",
       "23              Q       \n",
       "24  A6          S       \n",
       "25              S       \n",
       "26              S       \n",
       "27              C       \n",
       "28  C23 C25 C27 S       \n",
       "29              Q       \n",
       "30              S       \n",
       "⋮   ⋮           ⋮       \n",
       "862             S       \n",
       "863 D17         S       \n",
       "864             S       \n",
       "865             S       \n",
       "866             S       \n",
       "867             C       \n",
       "868 A24         S       \n",
       "869             S       \n",
       "870             S       \n",
       "871             S       \n",
       "872 D35         S       \n",
       "873 B51 B53 B55 S       \n",
       "874             S       \n",
       "875             C       \n",
       "876             C       \n",
       "877             S       \n",
       "878             S       \n",
       "879             S       \n",
       "880 C50         C       \n",
       "881             S       \n",
       "882             S       \n",
       "883             S       \n",
       "884             S       \n",
       "885             S       \n",
       "886             Q       \n",
       "887             S       \n",
       "888 B42         S       \n",
       "889             S       \n",
       "890 C148        C       \n",
       "891             Q       "
      ]
     },
     "metadata": {},
     "output_type": "display_data"
    }
   ],
   "source": [
    "titanic"
   ]
  }
 ],
 "metadata": {
  "kernelspec": {
   "display_name": "R",
   "language": "R",
   "name": "ir"
  },
  "language_info": {
   "codemirror_mode": "r",
   "file_extension": ".r",
   "mimetype": "text/x-r-source",
   "name": "R",
   "pygments_lexer": "r",
   "version": "3.4.1"
  }
 },
 "nbformat": 4,
 "nbformat_minor": 2
}
